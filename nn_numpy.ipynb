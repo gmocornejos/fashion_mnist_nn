{
 "cells": [
  {
   "cell_type": "code",
   "execution_count": 1,
   "id": "aa85d055-6560-4181-b559-7810c2962476",
   "metadata": {},
   "outputs": [],
   "source": [
    "import pickle\n",
    "import numpy as np"
   ]
  },
  {
   "cell_type": "code",
   "execution_count": 2,
   "id": "1d52d7e6-3722-4cfd-aa35-570eb5efccaf",
   "metadata": {},
   "outputs": [],
   "source": [
    "with open(\"data/train_data.pkl\", \"rb\") as train_file:\n",
    "    train_data = pickle.load(train_file)"
   ]
  },
  {
   "cell_type": "code",
   "execution_count": 3,
   "id": "7ef8a735-6896-4a23-9fe1-115f0eb9a99f",
   "metadata": {},
   "outputs": [],
   "source": [
    "# Define the network\n",
    "\n",
    "img_px = 28\n",
    "n_i = 512\n",
    "n_1 = 128\n",
    "n_2 = 64\n",
    "n_L = 10 # there are 10 classes in FashionMNIST\n",
    "\n",
    "k_i = 1/np.sqrt( img_px * img_px )\n",
    "k_1 = 1/np.sqrt( n_i * n_i )\n",
    "k_2 = 1/np.sqrt( n_1 * n_1)\n",
    "k_L = 1/np.sqrt( n_2 * n_2 )\n",
    "\n",
    "w_i = np.random.uniform( -k_i, k_i, (img_px*img_px, n_i) )\n",
    "b_i = np.random.normal( -k_i, k_i, size=n_i )\n",
    "\n",
    "w_1 = np.random.normal( -k_1, k_1, size=(n_i, n_1) )\n",
    "b_1 = np.random.normal( -k_1, k_1, size=n_1 )\n",
    "\n",
    "w_2 = np.random.normal( -k_2, k_2, size=(n_1, n_2))\n",
    "b_2 = np.random.normal( -k_2, k_2, size=n_2 )\n",
    "\n",
    "w_L = np.random.normal( -k_L, k_L, size=(n_2, n_L) )\n",
    "b_L = np.random.normal( -k_L, k_L, size=n_L )"
   ]
  },
  {
   "cell_type": "code",
   "execution_count": 14,
   "id": "af4cfbfd-75e2-4cba-b0f0-e78dbbb96224",
   "metadata": {},
   "outputs": [
    {
     "data": {
      "text/plain": [
       "array([0.09910156, 0.10134875, 0.10126736, 0.09972461, 0.09966782,\n",
       "       0.09801581, 0.0988231 , 0.10154293, 0.10076158, 0.09974649])"
      ]
     },
     "execution_count": 14,
     "metadata": {},
     "output_type": "execute_result"
    }
   ],
   "source": [
    "# forward function, used to make predictions\n",
    "\n",
    "def softmax(x):\n",
    "    exp_x = np.exp(x)\n",
    "    return exp_x / exp_x.sum()\n",
    "\n",
    "def forward(x, return_activations=False):\n",
    "    leak = 0.01\n",
    "    x = x.flatten()\n",
    "    \n",
    "    z_i = x @ w_i + b_i\n",
    "    a_i = np.maximum(0, z_i)\n",
    "\n",
    "    z_1 = a_i @ w_1 + b_1\n",
    "    a_1 = np.maximum(0, z_1)\n",
    "\n",
    "    z_2 = a_1 @ w_2 + b_2\n",
    "    a_2 = np.maximum(0, z_2)\n",
    "\n",
    "    z_L = a_2 @ w_L + b_L\n",
    "    a_L = softmax(z_L)\n",
    "\n",
    "    if return_activations:\n",
    "        return a_L, (a_i, a_1, a_2)\n",
    "    else:\n",
    "        return a_L\n",
    "\n",
    "forward(train_data[0][0])"
   ]
  },
  {
   "cell_type": "code",
   "execution_count": 5,
   "id": "4c13a1b2-0959-4e7d-9bdf-a7fe5f3a0cfb",
   "metadata": {},
   "outputs": [
    {
     "data": {
      "text/plain": [
       "2.3051234281895785"
      ]
     },
     "execution_count": 5,
     "metadata": {},
     "output_type": "execute_result"
    }
   ],
   "source": [
    "# Cross-entropy loss\n",
    "\n",
    "def loss(y, a_L):\n",
    "    return - (y * np.log(a_L)).sum()   \n",
    "\n",
    "loss(train_data[0][1], forward(train_data[0][0].flatten()))"
   ]
  },
  {
   "cell_type": "code",
   "execution_count": 17,
   "id": "fbb08b53-cc43-4997-9d38-2d363e3a1dbc",
   "metadata": {},
   "outputs": [
    {
     "data": {
      "text/plain": [
       "array([30, 36, 42])"
      ]
     },
     "execution_count": 17,
     "metadata": {},
     "output_type": "execute_result"
    }
   ],
   "source": [
    "m = np.array([\n",
    "[1, 2, 3],\n",
    "[4, 5, 6],\n",
    "[7, 8, 9]\n",
    "])\n",
    "\n",
    "a = np.array([1, 2, 3])\n",
    "\n",
    "a @ m"
   ]
  },
  {
   "cell_type": "code",
   "execution_count": 19,
   "id": "70404239-acc7-467b-b6dd-fc98cab368a7",
   "metadata": {},
   "outputs": [
    {
     "data": {
      "text/plain": [
       "42"
      ]
     },
     "execution_count": 19,
     "metadata": {},
     "output_type": "execute_result"
    }
   ],
   "source": [
    "i = 2\n",
    "\n",
    "a[0] * m[0,i] + a[1] * m[1, i] + a[2] * m[2, i]"
   ]
  },
  {
   "cell_type": "code",
   "execution_count": 29,
   "id": "55de65c4-52d5-48b9-aa58-159bb436daaf",
   "metadata": {},
   "outputs": [
    {
     "data": {
      "text/plain": [
       "array([[1., 1., 1., 1.],\n",
       "       [2., 2., 2., 2.],\n",
       "       [3., 3., 3., 3.]])"
      ]
     },
     "execution_count": 29,
     "metadata": {},
     "output_type": "execute_result"
    }
   ],
   "source": [
    "a.reshape(-1, 1) * np.ones((3, 4))"
   ]
  },
  {
   "cell_type": "code",
   "execution_count": 30,
   "id": "24e00eb9-5696-462d-98d6-c6696cf58a9a",
   "metadata": {},
   "outputs": [
    {
     "data": {
      "text/plain": [
       "(array([1, 2, 3]),\n",
       " array([[1],\n",
       "        [2],\n",
       "        [3]]))"
      ]
     },
     "execution_count": 30,
     "metadata": {},
     "output_type": "execute_result"
    }
   ],
   "source": [
    "a, a.reshape(-1, 1)"
   ]
  }
 ],
 "metadata": {
  "kernelspec": {
   "display_name": "Python 3 (ipykernel)",
   "language": "python",
   "name": "python3"
  },
  "language_info": {
   "codemirror_mode": {
    "name": "ipython",
    "version": 3
   },
   "file_extension": ".py",
   "mimetype": "text/x-python",
   "name": "python",
   "nbconvert_exporter": "python",
   "pygments_lexer": "ipython3",
   "version": "3.11.0rc1"
  }
 },
 "nbformat": 4,
 "nbformat_minor": 5
}
