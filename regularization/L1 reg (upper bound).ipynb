{
 "cells": [
  {
   "cell_type": "code",
   "execution_count": 1,
   "id": "64414a72-7408-422b-bb6f-5129024ee08a",
   "metadata": {},
   "outputs": [],
   "source": [
    "import pickle\n",
    "import matplotlib.pyplot as plt\n",
    "\n",
    "from sgd_L1 import NeuralNetwork\n",
    "\n",
    "\n",
    "with open(\"../data/train_data.pkl\", \"rb\") as train_file:\n",
    "    train_data = pickle.load(train_file)\n",
    "\n",
    "with open(\"../data/test_data.pkl\", \"rb\") as test_file:\n",
    "    test_data = pickle.load(test_file)"
   ]
  },
  {
   "cell_type": "code",
   "execution_count": 2,
   "id": "5452e8dc-7269-4207-a256-3e3ce8f74c31",
   "metadata": {},
   "outputs": [],
   "source": [
    "nn = NeuralNetwork(\n",
    "    [28*28, 512, 128, 64, 10], # layers size\n",
    "    1e-3,                      # learning rate\n",
    "    0.1,                       # L1 lambda\n",
    "    64,                        # mini batch size\n",
    "    5                          # training epochs\n",
    ")"
   ]
  },
  {
   "cell_type": "code",
   "execution_count": 3,
   "id": "77c0b2da-86c7-4f55-ab15-35b9ff083da8",
   "metadata": {},
   "outputs": [
    {
     "name": "stdout",
     "output_type": "stream",
     "text": [
      "Pre-train stats\n",
      "==> Accuracy: 11.1%, Avg loss: 3.970615\n",
      "\n",
      "Epoch 0\n",
      "--------------------\n",
      "loss: 4.223285 [mini-batch 0 / 937]\n",
      "loss: 0.577129 [mini-batch 100 / 937]\n",
      "loss: 0.644834 [mini-batch 200 / 937]\n",
      "loss: 0.550300 [mini-batch 300 / 937]\n",
      "loss: 0.717805 [mini-batch 400 / 937]\n",
      "loss: 0.460126 [mini-batch 500 / 937]\n",
      "loss: 0.477859 [mini-batch 600 / 937]\n",
      "loss: 0.449369 [mini-batch 700 / 937]\n",
      "loss: 0.429036 [mini-batch 800 / 937]\n",
      "loss: 0.524947 [mini-batch 900 / 937]\n",
      "==> Accuracy: 80.7%, Avg loss: 0.531713\n",
      "\n",
      "Epoch 1\n",
      "--------------------\n",
      "loss: 0.571083 [mini-batch 0 / 937]\n",
      "loss: 0.668094 [mini-batch 100 / 937]\n",
      "loss: 0.408790 [mini-batch 200 / 937]\n",
      "loss: 0.645130 [mini-batch 300 / 937]\n",
      "loss: 0.516642 [mini-batch 400 / 937]\n",
      "loss: 0.851040 [mini-batch 500 / 937]\n",
      "loss: 0.399295 [mini-batch 600 / 937]\n",
      "loss: 0.351050 [mini-batch 700 / 937]\n",
      "loss: 0.389224 [mini-batch 800 / 937]\n",
      "loss: 0.528311 [mini-batch 900 / 937]\n",
      "==> Accuracy: 82.6%, Avg loss: 0.497586\n",
      "\n",
      "Epoch 2\n",
      "--------------------\n",
      "loss: 0.401065 [mini-batch 0 / 937]\n",
      "loss: 0.532308 [mini-batch 100 / 937]\n",
      "loss: 0.420515 [mini-batch 200 / 937]\n",
      "loss: 0.566384 [mini-batch 300 / 937]\n",
      "loss: 0.417270 [mini-batch 400 / 937]\n",
      "loss: 0.529985 [mini-batch 500 / 937]\n",
      "loss: 0.530988 [mini-batch 600 / 937]\n",
      "loss: 0.296261 [mini-batch 700 / 937]\n",
      "loss: 0.317502 [mini-batch 800 / 937]\n",
      "loss: 0.374604 [mini-batch 900 / 937]\n",
      "==> Accuracy: 83.8%, Avg loss: 0.465617\n",
      "\n",
      "Epoch 3\n",
      "--------------------\n",
      "loss: 0.437849 [mini-batch 0 / 937]\n",
      "loss: 0.291271 [mini-batch 100 / 937]\n",
      "loss: 0.570924 [mini-batch 200 / 937]\n",
      "loss: 0.337730 [mini-batch 300 / 937]\n",
      "loss: 0.474858 [mini-batch 400 / 937]\n",
      "loss: 0.423364 [mini-batch 500 / 937]\n",
      "loss: 0.508389 [mini-batch 600 / 937]\n",
      "loss: 0.411621 [mini-batch 700 / 937]\n",
      "loss: 0.394890 [mini-batch 800 / 937]\n",
      "loss: 0.212857 [mini-batch 900 / 937]\n",
      "==> Accuracy: 84.1%, Avg loss: 0.450369\n",
      "\n",
      "Epoch 4\n",
      "--------------------\n",
      "loss: 0.275896 [mini-batch 0 / 937]\n",
      "loss: 0.550954 [mini-batch 100 / 937]\n",
      "loss: 0.528338 [mini-batch 200 / 937]\n",
      "loss: 0.409623 [mini-batch 300 / 937]\n",
      "loss: 0.339070 [mini-batch 400 / 937]\n",
      "loss: 0.391841 [mini-batch 500 / 937]\n",
      "loss: 0.554810 [mini-batch 600 / 937]\n",
      "loss: 0.549163 [mini-batch 700 / 937]\n",
      "loss: 0.429082 [mini-batch 800 / 937]\n",
      "loss: 0.322896 [mini-batch 900 / 937]\n",
      "==> Accuracy: 84.1%, Avg loss: 0.448367\n",
      "\n"
     ]
    }
   ],
   "source": [
    "accuracy, loss =  nn.train(train_data, test_data)"
   ]
  }
 ],
 "metadata": {
  "kernelspec": {
   "display_name": "Python 3 (ipykernel)",
   "language": "python",
   "name": "python3"
  },
  "language_info": {
   "codemirror_mode": {
    "name": "ipython",
    "version": 3
   },
   "file_extension": ".py",
   "mimetype": "text/x-python",
   "name": "python",
   "nbconvert_exporter": "python",
   "pygments_lexer": "ipython3",
   "version": "3.11.0rc1"
  }
 },
 "nbformat": 4,
 "nbformat_minor": 5
}
