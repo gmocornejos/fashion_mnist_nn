{
 "cells": [
  {
   "cell_type": "code",
   "execution_count": 1,
   "id": "64414a72-7408-422b-bb6f-5129024ee08a",
   "metadata": {},
   "outputs": [],
   "source": [
    "import pickle\n",
    "import matplotlib.pyplot as plt\n",
    "\n",
    "from sgd_L1 import NeuralNetwork\n",
    "\n",
    "\n",
    "with open(\"../data/train_data.pkl\", \"rb\") as train_file:\n",
    "    train_data = pickle.load(train_file)\n",
    "\n",
    "with open(\"../data/test_data.pkl\", \"rb\") as test_file:\n",
    "    test_data = pickle.load(test_file)"
   ]
  },
  {
   "cell_type": "code",
   "execution_count": 2,
   "id": "5452e8dc-7269-4207-a256-3e3ce8f74c31",
   "metadata": {},
   "outputs": [],
   "source": [
    "nn = NeuralNetwork(\n",
    "    [28*28, 512, 128, 64, 10], # layers size\n",
    "    1e-3,                      # learning rate\n",
    "    0.1,                       # L1 lambda\n",
    "    64,                        # mini batch size\n",
    "    5                          # training epochs\n",
    ")"
   ]
  },
  {
   "cell_type": "code",
   "execution_count": 3,
   "id": "77c0b2da-86c7-4f55-ab15-35b9ff083da8",
   "metadata": {},
   "outputs": [
    {
     "name": "stdout",
     "output_type": "stream",
     "text": [
      "Pre-train stats\n",
      "==> Accuracy: 13.5%, Avg loss: 8.976948\n",
      "\n",
      "Epoch 0\n",
      "--------------------\n",
      "loss: 11.008824 [mini-batch 0 / 937]\n",
      "loss: 0.572213 [mini-batch 100 / 937]\n",
      "loss: 0.713355 [mini-batch 200 / 937]\n",
      "loss: 0.889750 [mini-batch 300 / 937]\n",
      "loss: 0.539898 [mini-batch 400 / 937]\n",
      "loss: 0.417878 [mini-batch 500 / 937]\n",
      "loss: 0.581250 [mini-batch 600 / 937]\n",
      "loss: 0.693424 [mini-batch 700 / 937]\n",
      "loss: 0.426165 [mini-batch 800 / 937]\n",
      "loss: 0.576865 [mini-batch 900 / 937]\n",
      "==> Accuracy: 81.2%, Avg loss: 0.523738\n",
      "\n",
      "Epoch 1\n",
      "--------------------\n",
      "loss: 0.528958 [mini-batch 0 / 937]\n",
      "loss: 0.584921 [mini-batch 100 / 937]\n",
      "loss: 0.420753 [mini-batch 200 / 937]\n",
      "loss: 0.538027 [mini-batch 300 / 937]\n",
      "loss: 0.326281 [mini-batch 400 / 937]\n",
      "loss: 0.417195 [mini-batch 500 / 937]\n",
      "loss: 0.616476 [mini-batch 600 / 937]\n",
      "loss: 0.422846 [mini-batch 700 / 937]\n",
      "loss: 0.382541 [mini-batch 800 / 937]\n",
      "loss: 0.574918 [mini-batch 900 / 937]\n",
      "==> Accuracy: 83.2%, Avg loss: 0.480744\n",
      "\n",
      "Epoch 2\n",
      "--------------------\n",
      "loss: 0.484803 [mini-batch 0 / 937]\n"
     ]
    },
    {
     "ename": "KeyboardInterrupt",
     "evalue": "",
     "output_type": "error",
     "traceback": [
      "\u001b[0;31m---------------------------------------------------------------------------\u001b[0m",
      "\u001b[0;31mKeyboardInterrupt\u001b[0m                         Traceback (most recent call last)",
      "Cell \u001b[0;32mIn[3], line 1\u001b[0m\n\u001b[0;32m----> 1\u001b[0m accuracy, loss \u001b[38;5;241m=\u001b[39m  \u001b[43mnn\u001b[49m\u001b[38;5;241;43m.\u001b[39;49m\u001b[43mtrain\u001b[49m\u001b[43m(\u001b[49m\u001b[43mtrain_data\u001b[49m\u001b[43m,\u001b[49m\u001b[43m \u001b[49m\u001b[43mtest_data\u001b[49m\u001b[43m)\u001b[49m\n",
      "File \u001b[0;32m~/Documents/fashion_mnist_nn/regularization/sgd_L1.py:125\u001b[0m, in \u001b[0;36mNeuralNetwork.train\u001b[0;34m(self, train_data, test_data)\u001b[0m\n\u001b[1;32m    122\u001b[0m n \u001b[38;5;241m=\u001b[39m \u001b[38;5;28mlen\u001b[39m(mini_batch)\n\u001b[1;32m    124\u001b[0m \u001b[38;5;28;01mfor\u001b[39;00m x, y \u001b[38;5;129;01min\u001b[39;00m mini_batch:\n\u001b[0;32m--> 125\u001b[0m     sum_loss \u001b[38;5;241m+\u001b[39m\u001b[38;5;241m=\u001b[39m \u001b[38;5;28;43mself\u001b[39;49m\u001b[38;5;241;43m.\u001b[39;49m\u001b[43mcalc_gradients\u001b[49m\u001b[43m(\u001b[49m\u001b[43mx\u001b[49m\u001b[43m,\u001b[49m\u001b[43m \u001b[49m\u001b[43my\u001b[49m\u001b[43m)\u001b[49m\n\u001b[1;32m    126\u001b[0m     \u001b[38;5;28;01mfor\u001b[39;00m l \u001b[38;5;129;01min\u001b[39;00m \u001b[38;5;28mrange\u001b[39m(\u001b[38;5;28mself\u001b[39m\u001b[38;5;241m.\u001b[39mnum_layers):\n\u001b[1;32m    127\u001b[0m         \u001b[38;5;28mself\u001b[39m\u001b[38;5;241m.\u001b[39msum_nabla_z[l] \u001b[38;5;241m+\u001b[39m\u001b[38;5;241m=\u001b[39m \u001b[38;5;28mself\u001b[39m\u001b[38;5;241m.\u001b[39mnabla_z[l]\n",
      "File \u001b[0;32m~/Documents/fashion_mnist_nn/regularization/sgd_L1.py:83\u001b[0m, in \u001b[0;36mNeuralNetwork.calc_gradients\u001b[0;34m(self, x, y)\u001b[0m\n\u001b[1;32m     82\u001b[0m \u001b[38;5;28;01mdef\u001b[39;00m \u001b[38;5;21mcalc_gradients\u001b[39m(\u001b[38;5;28mself\u001b[39m, x, y):\n\u001b[0;32m---> 83\u001b[0m     \u001b[38;5;28;43mself\u001b[39;49m\u001b[38;5;241;43m.\u001b[39;49m\u001b[43mforward\u001b[49m\u001b[43m(\u001b[49m\u001b[43mx\u001b[49m\u001b[43m)\u001b[49m\n\u001b[1;32m     84\u001b[0m     \u001b[38;5;66;03m# Last layer\u001b[39;00m\n\u001b[1;32m     85\u001b[0m     l \u001b[38;5;241m=\u001b[39m \u001b[38;5;28mself\u001b[39m\u001b[38;5;241m.\u001b[39mnum_layers \u001b[38;5;241m-\u001b[39m \u001b[38;5;241m1\u001b[39m\n",
      "File \u001b[0;32m~/Documents/fashion_mnist_nn/regularization/sgd_L1.py:58\u001b[0m, in \u001b[0;36mNeuralNetwork.forward\u001b[0;34m(self, x)\u001b[0m\n\u001b[1;32m     56\u001b[0m l \u001b[38;5;241m=\u001b[39m \u001b[38;5;241m0\u001b[39m\n\u001b[1;32m     57\u001b[0m \u001b[38;5;28mself\u001b[39m\u001b[38;5;241m.\u001b[39mz[l] \u001b[38;5;241m=\u001b[39m \u001b[38;5;28mself\u001b[39m\u001b[38;5;241m.\u001b[39mweights[l] \u001b[38;5;241m@\u001b[39m x\u001b[38;5;241m.\u001b[39mflatten() \u001b[38;5;241m+\u001b[39m \u001b[38;5;28mself\u001b[39m\u001b[38;5;241m.\u001b[39mbiases[l]\n\u001b[0;32m---> 58\u001b[0m \u001b[38;5;28mself\u001b[39m\u001b[38;5;241m.\u001b[39ma[l] \u001b[38;5;241m=\u001b[39m \u001b[43mnp\u001b[49m\u001b[38;5;241;43m.\u001b[39;49m\u001b[43mmaximum\u001b[49m\u001b[43m(\u001b[49m\u001b[38;5;241;43m0\u001b[39;49m\u001b[43m,\u001b[49m\u001b[43m \u001b[49m\u001b[38;5;28;43mself\u001b[39;49m\u001b[38;5;241;43m.\u001b[39;49m\u001b[43mz\u001b[49m\u001b[43m[\u001b[49m\u001b[43ml\u001b[49m\u001b[43m]\u001b[49m\u001b[43m)\u001b[49m\n\u001b[1;32m     59\u001b[0m \u001b[38;5;66;03m# Hidden layers\u001b[39;00m\n\u001b[1;32m     60\u001b[0m \u001b[38;5;28;01mfor\u001b[39;00m l \u001b[38;5;129;01min\u001b[39;00m \u001b[38;5;28mrange\u001b[39m(\u001b[38;5;241m1\u001b[39m, \u001b[38;5;28mself\u001b[39m\u001b[38;5;241m.\u001b[39mnum_layers\u001b[38;5;241m-\u001b[39m\u001b[38;5;241m1\u001b[39m):\n",
      "\u001b[0;31mKeyboardInterrupt\u001b[0m: "
     ]
    }
   ],
   "source": [
    "accuracy, loss =  nn.train(train_data, test_data)"
   ]
  }
 ],
 "metadata": {
  "kernelspec": {
   "display_name": "Python 3 (ipykernel)",
   "language": "python",
   "name": "python3"
  },
  "language_info": {
   "codemirror_mode": {
    "name": "ipython",
    "version": 3
   },
   "file_extension": ".py",
   "mimetype": "text/x-python",
   "name": "python",
   "nbconvert_exporter": "python",
   "pygments_lexer": "ipython3",
   "version": "3.11.0rc1"
  }
 },
 "nbformat": 4,
 "nbformat_minor": 5
}
