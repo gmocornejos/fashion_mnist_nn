{
 "cells": [
  {
   "cell_type": "code",
   "execution_count": 1,
   "id": "269f83d4-70d4-40dc-b3d3-2a99c6223eec",
   "metadata": {},
   "outputs": [],
   "source": [
    "import pickle\n",
    "import numpy as np\n",
    "import matplotlib.pyplot as plt\n",
    "\n",
    "from sgd_vanilla import NeuralNetwork\n",
    "\n",
    "rng = np.random.default_rng()\n",
    "\n",
    "with open(\"../data/train_data.pkl\", \"rb\") as train_file:\n",
    "    train_data = pickle.load(train_file)\n",
    "\n",
    "rng.shuffle(train_data)\n",
    "validation_data = train_data[:5000]\n",
    "train_data = train_data[5000:]"
   ]
  },
  {
   "cell_type": "code",
   "execution_count": 5,
   "id": "b50b8b7d-b461-4aed-a254-2660b4832788",
   "metadata": {},
   "outputs": [
    {
     "name": "stdout",
     "output_type": "stream",
     "text": [
      "Pre-train stats\n",
      "==> Accuracy: 11.7%, Avg loss: 9.527284\n",
      "\n",
      "Epoch 0\n",
      "--------------------\n",
      "loss: 9.281730 [mini-batch 0 / 859]\n",
      "loss: 0.880075 [mini-batch 100 / 859]\n",
      "loss: 0.696110 [mini-batch 200 / 859]\n",
      "loss: 0.656353 [mini-batch 300 / 859]\n",
      "loss: 0.483105 [mini-batch 400 / 859]\n",
      "loss: 0.500004 [mini-batch 500 / 859]\n",
      "loss: 0.589378 [mini-batch 600 / 859]\n",
      "loss: 0.762547 [mini-batch 700 / 859]\n",
      "loss: 0.578669 [mini-batch 800 / 859]\n",
      "==> Accuracy: 80.8%, Avg loss: 0.531616\n",
      "\n",
      "Epoch 1\n",
      "--------------------\n",
      "loss: 0.486116 [mini-batch 0 / 859]\n",
      "loss: 0.349115 [mini-batch 100 / 859]\n",
      "loss: 0.403893 [mini-batch 200 / 859]\n",
      "loss: 0.475911 [mini-batch 300 / 859]\n",
      "loss: 0.468457 [mini-batch 400 / 859]\n",
      "loss: 0.425750 [mini-batch 500 / 859]\n",
      "loss: 0.441418 [mini-batch 600 / 859]\n",
      "loss: 0.426822 [mini-batch 700 / 859]\n",
      "loss: 0.500759 [mini-batch 800 / 859]\n",
      "==> Accuracy: 83.5%, Avg loss: 0.476665\n",
      "\n"
     ]
    },
    {
     "data": {
      "text/plain": [
       "([0.1174, 0.8082, 0.835],\n",
       " [9.527283769240753, 0.5316155423093862, 0.4766646244503128])"
      ]
     },
     "execution_count": 5,
     "metadata": {},
     "output_type": "execute_result"
    }
   ],
   "source": [
    "# get upper bound\n",
    "\n",
    "nn = NeuralNetwork(\n",
    "    [28*28, 512, 128, 64, 10], # layers size\n",
    "    1e-3,                      # learning rate\n",
    "    64,                        # mini batch size\n",
    "    2 # training epochs\n",
    ")\n",
    "\n",
    "nn.train(train_data, validation_data)"
   ]
  },
  {
   "cell_type": "code",
   "execution_count": null,
   "id": "98a65dc7-558b-4b62-aef2-b70a7fec5903",
   "metadata": {},
   "outputs": [],
   "source": [
    "etas = [1e-6, 1e-5, 1e-4, 1e-3]\n",
    "n_trials = 5\n",
    "\n",
    "results = {eta:[] for eta in etas}\n",
    "for eta in etas:\n",
    "    for _ in range(n_trails):\n",
    "        nn = NeuralNetwork(\n",
    "            [28*28, 512, 128, 64, 10], # layers size\n",
    "            eta,                      # learning rate\n",
    "            64,                        # mini batch size\n",
    "            5 # training epochs\n",
    "        )\n",
    "        accuracy, _ = nn.train(train_data, validation_data)\n",
    "        results[eta].append( accuracy[-1] )    "
   ]
  },
  {
   "cell_type": "code",
   "execution_count": null,
   "id": "717fb09b-3ae6-4b3e-aa2b-41c5256f144e",
   "metadata": {},
   "outputs": [],
   "source": [
    "#plt.plot(accuracy[1:], label=\"Accuracy\")\n",
    "#plt.plot(loss[1:], label=\"Loss\")\n",
    "#plt.legend()"
   ]
  }
 ],
 "metadata": {
  "kernelspec": {
   "display_name": "Python 3 (ipykernel)",
   "language": "python",
   "name": "python3"
  },
  "language_info": {
   "codemirror_mode": {
    "name": "ipython",
    "version": 3
   },
   "file_extension": ".py",
   "mimetype": "text/x-python",
   "name": "python",
   "nbconvert_exporter": "python",
   "pygments_lexer": "ipython3",
   "version": "3.11.0rc1"
  }
 },
 "nbformat": 4,
 "nbformat_minor": 5
}
