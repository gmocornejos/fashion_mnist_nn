{
 "cells": [
  {
   "cell_type": "code",
   "execution_count": 1,
   "id": "9664b099-8ab2-41ee-9fe4-8f0fd558e22f",
   "metadata": {},
   "outputs": [],
   "source": [
    "import pickle\n",
    "import numpy as np\n",
    "import optuna\n",
    "import optuna.visualization as ov\n",
    "\n",
    "from sgd_L1 import NeuralNetwork"
   ]
  },
  {
   "cell_type": "code",
   "execution_count": 2,
   "id": "5c293164-b372-4be9-ba70-823af0b9d4a3",
   "metadata": {},
   "outputs": [],
   "source": [
    "with open(\"../data/train_data.pkl\", \"rb\") as train_file:\n",
    "    train_data = pickle.load(train_file)\n",
    "\n",
    "rng = np.random.default_rng()\n",
    "rng.shuffle(train_data)\n",
    "validation_data = train_data[:5000]\n",
    "train_data = train_data[5000:]"
   ]
  },
  {
   "cell_type": "code",
   "execution_count": null,
   "id": "fb24c78f-4815-4da4-b142-6dd445458f47",
   "metadata": {},
   "outputs": [],
   "source": [
    "def objective(trial):\n",
    "    L1_lambda = trial.suggest_float(\"L1 lambda\", 0.001, 0.1, log=True)\n",
    "    nn = NeuralNetwork(\n",
    "        [28*28, 512, 128, 64, 10], # layers size\n",
    "        0.95e-3,                   # learning rate\n",
    "        L1_lambda,                 # L1 lambda\n",
    "        64,                        # mini batch size\n",
    "        5                          # training epochs\n",
    "    )\n",
    "    accuracy, _ = nn.train(train_data, validation_data)\n",
    "    return accuracy[-1]"
   ]
  },
  {
   "cell_type": "code",
   "execution_count": null,
   "id": "12addb2d-0279-4ae0-a7b1-dd36024f5c70",
   "metadata": {},
   "outputs": [],
   "source": [
    "study = optuna.create_study(direction=\"maximize\")\n",
    "study.optimize(objective, n_trials=40)"
   ]
  },
  {
   "cell_type": "code",
   "execution_count": null,
   "id": "31863125-16c0-49fc-bdf0-9e8bfaafdd3f",
   "metadata": {},
   "outputs": [],
   "source": [
    "study.best_params"
   ]
  }
 ],
 "metadata": {
  "kernelspec": {
   "display_name": "Python 3 (ipykernel)",
   "language": "python",
   "name": "python3"
  },
  "language_info": {
   "codemirror_mode": {
    "name": "ipython",
    "version": 3
   },
   "file_extension": ".py",
   "mimetype": "text/x-python",
   "name": "python",
   "nbconvert_exporter": "python",
   "pygments_lexer": "ipython3",
   "version": "3.11.0rc1"
  }
 },
 "nbformat": 4,
 "nbformat_minor": 5
}
